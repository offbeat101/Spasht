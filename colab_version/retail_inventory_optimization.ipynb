{
  "cells": [
    {
      "cell_type": "markdown",
      "metadata": {
        "id": "view-in-github"
      },
      "source": [
        "# 🛒 Retail Inventory Optimization - Multi-Agent System\n",
        "\n",
        "This notebook runs a multi-agent AI system for retail inventory optimization using Streamlit and ngrok."
      ]
    },
    {
      "cell_type": "markdown",
      "metadata": {},
      "source": [
        "## Step 1: Install Required Packages\n",
        "\n",
        "First, let's install all the necessary packages:"
      ]
    },
    {
      "cell_type": "code",
      "execution_count": null,
      "metadata": {},
      "source": [
        "!pip install streamlit pandas numpy xgboost joblib pyngrok plotly scikit-learn matplotlib"
      ],
      "outputs": []
    },
    {
      "cell_type": "markdown",
      "metadata": {},
      "source": [
        "## Step 2: Set Up Project Structure\n",
        "\n",
        "Now, let's create the necessary directories and files for our application:"
      ]
    },
    {
      "cell_type": "code",
      "execution_count": null,
      "metadata": {},
      "source": [
        "# Create necessary directories\n",
        "!mkdir -p agents db models logs data\n",
        "\n",
        "# Download the code files from this repository\n",
        "!wget -q https://raw.githubusercontent.com/yourusername/retail-optimization/main/colab_setup.py -O colab_setup.py\n",
        "!python colab_setup.py\n",
        "\n",
        "# Alternatively, you can uncomment and run the following cell to create the files manually"
      ],
      "outputs": []
    },
    {
      "cell_type": "markdown",
      "metadata": {},
      "source": [
        "## Step 3: Initialize the Database\n",
        "\n",
        "Let's initialize the database with sample data:"
      ]
    },
    {
      "cell_type": "code",
      "execution_count": null,
      "metadata": {},
      "source": [
        "!python utils/init_db.py"
      ],
      "outputs": []
    },
    {
      "cell_type": "markdown",
      "metadata": {},
      "source": [
        "## Step 4: Run the Streamlit App with ngrok\n",
        "\n",
        "Now, let's run our Streamlit app and expose it via ngrok:"
      ]
    },
    {
      "cell_type": "code",
      "execution_count": null,
      "metadata": {},
      "source": [
        "from pyngrok import ngrok\n",
        "import os\n",
        "\n",
        "# Set your ngrok auth token (optional but recommended)\n",
        "# ngrok.set_auth_token(\"YOUR_NGROK_AUTH_TOKEN\")\n",
        "\n",
        "# Start ngrok tunnel to port 8501 (Streamlit's default port)\n",
        "public_url = ngrok.connect(8501)\n",
        "print(f\"Public URL: {public_url}\")\n",
        "\n",
        "# Run the Streamlit app\n",
        "!streamlit run colab_app.py &>/dev/null &\n",
        "\n",
        "# Keep the notebook running\n",
        "import IPython\n",
        "from IPython.display import display, HTML\n",
        "display(HTML(f'''\n",
        "<div style=\"background-color: #f8f9fa; padding: 20px; border-radius: 10px; margin: 10px 0;\">\n",
        "    <h3 style=\"color: #0366d6;\">🚀 Your Streamlit App is Running!</h3>\n",
        "    <p>Access your app at: <a href=\"{public_url}\" target=\"_blank\">{public_url}</a></p>\n",
        "    <p style=\"color: #586069;\">Keep this notebook running to maintain the connection.</p>\n",
        "</div>\n",
        "'''))"
      ],
      "outputs": []
    },
    {
      "cell_type": "markdown",
      "metadata": {},
      "source": [
        "## Step 5: Stop the App (When Finished)\n",
        "\n",
        "Run this cell to stop the Streamlit app and ngrok tunnel when you're done:"
      ]
    },
    {
      "cell_type": "code",
      "execution_count": null,
      "metadata": {},
      "source": [
        "# Kill the Streamlit process\n",
        "!pkill -f streamlit\n",
        "\n",
        "# Disconnect ngrok\n",
        "ngrok.kill()\n",
        "\n",
        "print(\"Streamlit app and ngrok tunnel have been stopped.\")"
      ],
      "outputs": []
    }
  ],
  "metadata": {
    "colab": {
      "name": "Retail Inventory Optimization - Multi-Agent System",
      "provenance": [],
      "collapsed_sections": []
    },
    "kernelspec": {
      "display_name": "Python 3",
      "name": "python3"
    },
    "language_info": {
      "name": "python"
    }
  },
  "nbformat": 4,
  "nbformat_minor": 0
}
